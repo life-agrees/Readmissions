{
 "cells": [
  {
   "cell_type": "markdown",
   "metadata": {},
   "source": [
    "MODEL BUILDING!💯"
   ]
  },
  {
   "cell_type": "code",
   "execution_count": 1,
   "metadata": {},
   "outputs": [],
   "source": [
    "import pandas as pd\n",
    "import numpy as np\n",
    "from sklearn.preprocessing import LabelEncoder\n",
    "from sklearn.preprocessing import StandardScaler\n",
    "import warnings\n",
    "warnings.filterwarnings('ignore')"
   ]
  },
  {
   "cell_type": "code",
   "execution_count": 2,
   "metadata": {},
   "outputs": [],
   "source": [
    "df = pd.read_csv('cleaned_hospital_Readm_v2.csv')"
   ]
  },
  {
   "cell_type": "code",
   "execution_count": 3,
   "metadata": {},
   "outputs": [
    {
     "data": {
      "text/html": [
       "<div>\n",
       "<style scoped>\n",
       "    .dataframe tbody tr th:only-of-type {\n",
       "        vertical-align: middle;\n",
       "    }\n",
       "\n",
       "    .dataframe tbody tr th {\n",
       "        vertical-align: top;\n",
       "    }\n",
       "\n",
       "    .dataframe thead th {\n",
       "        text-align: right;\n",
       "    }\n",
       "</style>\n",
       "<table border=\"1\" class=\"dataframe\">\n",
       "  <thead>\n",
       "    <tr style=\"text-align: right;\">\n",
       "      <th></th>\n",
       "      <th>Hospital Name</th>\n",
       "      <th>Provider Number</th>\n",
       "      <th>State</th>\n",
       "      <th>Measure Name</th>\n",
       "      <th>Number of Discharges</th>\n",
       "      <th>Excess Readmission Ratio</th>\n",
       "      <th>Predicted Readmission Rate</th>\n",
       "      <th>Expected Readmission Rate</th>\n",
       "      <th>Number of Readmissions</th>\n",
       "      <th>Start Date</th>\n",
       "      <th>End Date</th>\n",
       "    </tr>\n",
       "  </thead>\n",
       "  <tbody>\n",
       "    <tr>\n",
       "      <th>0</th>\n",
       "      <td>THOMAS HOSPITAL</td>\n",
       "      <td>10100</td>\n",
       "      <td>AL</td>\n",
       "      <td>Chronic_Obstructive_Pulmonary</td>\n",
       "      <td>166</td>\n",
       "      <td>0.9502</td>\n",
       "      <td>18.4</td>\n",
       "      <td>19.3</td>\n",
       "      <td>27</td>\n",
       "      <td>01-JUL-11</td>\n",
       "      <td>30-JUN-14</td>\n",
       "    </tr>\n",
       "    <tr>\n",
       "      <th>1</th>\n",
       "      <td>THOMAS HOSPITAL</td>\n",
       "      <td>10100</td>\n",
       "      <td>AL</td>\n",
       "      <td>Heart_Failure</td>\n",
       "      <td>343</td>\n",
       "      <td>0.9587</td>\n",
       "      <td>19.9</td>\n",
       "      <td>20.8</td>\n",
       "      <td>66</td>\n",
       "      <td>01-JUL-11</td>\n",
       "      <td>30-JUN-14</td>\n",
       "    </tr>\n",
       "    <tr>\n",
       "      <th>2</th>\n",
       "      <td>THOMAS HOSPITAL</td>\n",
       "      <td>10100</td>\n",
       "      <td>AL</td>\n",
       "      <td>Hip_Knee_Surgery</td>\n",
       "      <td>641</td>\n",
       "      <td>1.0221</td>\n",
       "      <td>4.9</td>\n",
       "      <td>4.8</td>\n",
       "      <td>32</td>\n",
       "      <td>01-JUL-11</td>\n",
       "      <td>30-JUN-14</td>\n",
       "    </tr>\n",
       "    <tr>\n",
       "      <th>3</th>\n",
       "      <td>J PAUL JONES HOSPITAL</td>\n",
       "      <td>10102</td>\n",
       "      <td>AL</td>\n",
       "      <td>Chronic_Obstructive_Pulmonary</td>\n",
       "      <td>157</td>\n",
       "      <td>0.9756</td>\n",
       "      <td>16.6</td>\n",
       "      <td>16.7</td>\n",
       "      <td>23</td>\n",
       "      <td>01-JUL-11</td>\n",
       "      <td>30-JUN-14</td>\n",
       "    </tr>\n",
       "    <tr>\n",
       "      <th>4</th>\n",
       "      <td>GRANDVIEW MEDICAL CENTER</td>\n",
       "      <td>10104</td>\n",
       "      <td>AL</td>\n",
       "      <td>Chronic_Obstructive_Pulmonary</td>\n",
       "      <td>239</td>\n",
       "      <td>1.0373</td>\n",
       "      <td>21.5</td>\n",
       "      <td>20.7</td>\n",
       "      <td>54</td>\n",
       "      <td>01-JUL-11</td>\n",
       "      <td>30-JUN-14</td>\n",
       "    </tr>\n",
       "  </tbody>\n",
       "</table>\n",
       "</div>"
      ],
      "text/plain": [
       "              Hospital Name  Provider Number State  \\\n",
       "0           THOMAS HOSPITAL            10100    AL   \n",
       "1           THOMAS HOSPITAL            10100    AL   \n",
       "2           THOMAS HOSPITAL            10100    AL   \n",
       "3     J PAUL JONES HOSPITAL            10102    AL   \n",
       "4  GRANDVIEW MEDICAL CENTER            10104    AL   \n",
       "\n",
       "                    Measure Name  Number of Discharges  \\\n",
       "0  Chronic_Obstructive_Pulmonary                   166   \n",
       "1                  Heart_Failure                   343   \n",
       "2               Hip_Knee_Surgery                   641   \n",
       "3  Chronic_Obstructive_Pulmonary                   157   \n",
       "4  Chronic_Obstructive_Pulmonary                   239   \n",
       "\n",
       "   Excess Readmission Ratio  Predicted Readmission Rate  \\\n",
       "0                    0.9502                        18.4   \n",
       "1                    0.9587                        19.9   \n",
       "2                    1.0221                         4.9   \n",
       "3                    0.9756                        16.6   \n",
       "4                    1.0373                        21.5   \n",
       "\n",
       "   Expected Readmission Rate  Number of Readmissions Start Date   End Date  \n",
       "0                       19.3                      27  01-JUL-11  30-JUN-14  \n",
       "1                       20.8                      66  01-JUL-11  30-JUN-14  \n",
       "2                        4.8                      32  01-JUL-11  30-JUN-14  \n",
       "3                       16.7                      23  01-JUL-11  30-JUN-14  \n",
       "4                       20.7                      54  01-JUL-11  30-JUN-14  "
      ]
     },
     "execution_count": 3,
     "metadata": {},
     "output_type": "execute_result"
    }
   ],
   "source": [
    "df.head()"
   ]
  },
  {
   "cell_type": "code",
   "execution_count": 4,
   "metadata": {},
   "outputs": [
    {
     "data": {
      "text/plain": [
       "0.5442"
      ]
     },
     "execution_count": 4,
     "metadata": {},
     "output_type": "execute_result"
    }
   ],
   "source": [
    "df['Excess Readmission Ratio'].min()"
   ]
  },
  {
   "cell_type": "code",
   "execution_count": 5,
   "metadata": {},
   "outputs": [
    {
     "data": {
      "text/plain": [
       "1.826"
      ]
     },
     "execution_count": 5,
     "metadata": {},
     "output_type": "execute_result"
    }
   ],
   "source": [
    "df['Excess Readmission Ratio'].max()"
   ]
  },
  {
   "cell_type": "code",
   "execution_count": 6,
   "metadata": {},
   "outputs": [
    {
     "data": {
      "text/html": [
       "<div>\n",
       "<style scoped>\n",
       "    .dataframe tbody tr th:only-of-type {\n",
       "        vertical-align: middle;\n",
       "    }\n",
       "\n",
       "    .dataframe tbody tr th {\n",
       "        vertical-align: top;\n",
       "    }\n",
       "\n",
       "    .dataframe thead th {\n",
       "        text-align: right;\n",
       "    }\n",
       "</style>\n",
       "<table border=\"1\" class=\"dataframe\">\n",
       "  <thead>\n",
       "    <tr style=\"text-align: right;\">\n",
       "      <th></th>\n",
       "      <th>Provider Number</th>\n",
       "      <th>Number of Discharges</th>\n",
       "      <th>Excess Readmission Ratio</th>\n",
       "      <th>Predicted Readmission Rate</th>\n",
       "      <th>Expected Readmission Rate</th>\n",
       "      <th>Number of Readmissions</th>\n",
       "    </tr>\n",
       "  </thead>\n",
       "  <tbody>\n",
       "    <tr>\n",
       "      <th>count</th>\n",
       "      <td>16585.000000</td>\n",
       "      <td>16585.000000</td>\n",
       "      <td>16585.000000</td>\n",
       "      <td>16585.000000</td>\n",
       "      <td>16585.000000</td>\n",
       "      <td>16585.000000</td>\n",
       "    </tr>\n",
       "    <tr>\n",
       "      <th>mean</th>\n",
       "      <td>263262.641242</td>\n",
       "      <td>291.550317</td>\n",
       "      <td>0.997076</td>\n",
       "      <td>16.385662</td>\n",
       "      <td>16.369466</td>\n",
       "      <td>47.721435</td>\n",
       "    </tr>\n",
       "    <tr>\n",
       "      <th>std</th>\n",
       "      <td>160656.934173</td>\n",
       "      <td>268.686542</td>\n",
       "      <td>0.081131</td>\n",
       "      <td>5.426473</td>\n",
       "      <td>5.257213</td>\n",
       "      <td>48.894859</td>\n",
       "    </tr>\n",
       "    <tr>\n",
       "      <th>min</th>\n",
       "      <td>10001.000000</td>\n",
       "      <td>28.000000</td>\n",
       "      <td>0.544200</td>\n",
       "      <td>2.500000</td>\n",
       "      <td>3.200000</td>\n",
       "      <td>11.000000</td>\n",
       "    </tr>\n",
       "    <tr>\n",
       "      <th>25%</th>\n",
       "      <td>110146.000000</td>\n",
       "      <td>157.000000</td>\n",
       "      <td>0.963100</td>\n",
       "      <td>15.700000</td>\n",
       "      <td>16.000000</td>\n",
       "      <td>23.000000</td>\n",
       "    </tr>\n",
       "    <tr>\n",
       "      <th>50%</th>\n",
       "      <td>250138.000000</td>\n",
       "      <td>157.000000</td>\n",
       "      <td>0.975600</td>\n",
       "      <td>16.600000</td>\n",
       "      <td>16.700000</td>\n",
       "      <td>23.000000</td>\n",
       "    </tr>\n",
       "    <tr>\n",
       "      <th>75%</th>\n",
       "      <td>390130.000000</td>\n",
       "      <td>351.000000</td>\n",
       "      <td>1.035900</td>\n",
       "      <td>19.700000</td>\n",
       "      <td>19.900000</td>\n",
       "      <td>56.000000</td>\n",
       "    </tr>\n",
       "    <tr>\n",
       "      <th>max</th>\n",
       "      <td>670099.000000</td>\n",
       "      <td>7248.000000</td>\n",
       "      <td>1.826000</td>\n",
       "      <td>33.500000</td>\n",
       "      <td>28.200000</td>\n",
       "      <td>875.000000</td>\n",
       "    </tr>\n",
       "  </tbody>\n",
       "</table>\n",
       "</div>"
      ],
      "text/plain": [
       "       Provider Number  Number of Discharges  Excess Readmission Ratio  \\\n",
       "count     16585.000000          16585.000000              16585.000000   \n",
       "mean     263262.641242            291.550317                  0.997076   \n",
       "std      160656.934173            268.686542                  0.081131   \n",
       "min       10001.000000             28.000000                  0.544200   \n",
       "25%      110146.000000            157.000000                  0.963100   \n",
       "50%      250138.000000            157.000000                  0.975600   \n",
       "75%      390130.000000            351.000000                  1.035900   \n",
       "max      670099.000000           7248.000000                  1.826000   \n",
       "\n",
       "       Predicted Readmission Rate  Expected Readmission Rate  \\\n",
       "count                16585.000000               16585.000000   \n",
       "mean                    16.385662                  16.369466   \n",
       "std                      5.426473                   5.257213   \n",
       "min                      2.500000                   3.200000   \n",
       "25%                     15.700000                  16.000000   \n",
       "50%                     16.600000                  16.700000   \n",
       "75%                     19.700000                  19.900000   \n",
       "max                     33.500000                  28.200000   \n",
       "\n",
       "       Number of Readmissions  \n",
       "count            16585.000000  \n",
       "mean                47.721435  \n",
       "std                 48.894859  \n",
       "min                 11.000000  \n",
       "25%                 23.000000  \n",
       "50%                 23.000000  \n",
       "75%                 56.000000  \n",
       "max                875.000000  "
      ]
     },
     "execution_count": 6,
     "metadata": {},
     "output_type": "execute_result"
    }
   ],
   "source": [
    "df.describe()"
   ]
  },
  {
   "cell_type": "code",
   "execution_count": 7,
   "metadata": {},
   "outputs": [],
   "source": [
    "#dropping some columns data wont be useful for the model building.\n",
    "df.drop(['Hospital Name','Provider Number','State','Start Date','End Date'], axis= 1 , inplace=True )"
   ]
  },
  {
   "cell_type": "code",
   "execution_count": 8,
   "metadata": {},
   "outputs": [
    {
     "data": {
      "text/html": [
       "<div>\n",
       "<style scoped>\n",
       "    .dataframe tbody tr th:only-of-type {\n",
       "        vertical-align: middle;\n",
       "    }\n",
       "\n",
       "    .dataframe tbody tr th {\n",
       "        vertical-align: top;\n",
       "    }\n",
       "\n",
       "    .dataframe thead th {\n",
       "        text-align: right;\n",
       "    }\n",
       "</style>\n",
       "<table border=\"1\" class=\"dataframe\">\n",
       "  <thead>\n",
       "    <tr style=\"text-align: right;\">\n",
       "      <th></th>\n",
       "      <th>Measure Name</th>\n",
       "      <th>Number of Discharges</th>\n",
       "      <th>Excess Readmission Ratio</th>\n",
       "      <th>Predicted Readmission Rate</th>\n",
       "      <th>Expected Readmission Rate</th>\n",
       "      <th>Number of Readmissions</th>\n",
       "    </tr>\n",
       "  </thead>\n",
       "  <tbody>\n",
       "    <tr>\n",
       "      <th>0</th>\n",
       "      <td>Chronic_Obstructive_Pulmonary</td>\n",
       "      <td>166</td>\n",
       "      <td>0.9502</td>\n",
       "      <td>18.4</td>\n",
       "      <td>19.3</td>\n",
       "      <td>27</td>\n",
       "    </tr>\n",
       "    <tr>\n",
       "      <th>1</th>\n",
       "      <td>Heart_Failure</td>\n",
       "      <td>343</td>\n",
       "      <td>0.9587</td>\n",
       "      <td>19.9</td>\n",
       "      <td>20.8</td>\n",
       "      <td>66</td>\n",
       "    </tr>\n",
       "    <tr>\n",
       "      <th>2</th>\n",
       "      <td>Hip_Knee_Surgery</td>\n",
       "      <td>641</td>\n",
       "      <td>1.0221</td>\n",
       "      <td>4.9</td>\n",
       "      <td>4.8</td>\n",
       "      <td>32</td>\n",
       "    </tr>\n",
       "    <tr>\n",
       "      <th>3</th>\n",
       "      <td>Chronic_Obstructive_Pulmonary</td>\n",
       "      <td>157</td>\n",
       "      <td>0.9756</td>\n",
       "      <td>16.6</td>\n",
       "      <td>16.7</td>\n",
       "      <td>23</td>\n",
       "    </tr>\n",
       "    <tr>\n",
       "      <th>4</th>\n",
       "      <td>Chronic_Obstructive_Pulmonary</td>\n",
       "      <td>239</td>\n",
       "      <td>1.0373</td>\n",
       "      <td>21.5</td>\n",
       "      <td>20.7</td>\n",
       "      <td>54</td>\n",
       "    </tr>\n",
       "    <tr>\n",
       "      <th>5</th>\n",
       "      <td>Heart_Failure</td>\n",
       "      <td>170</td>\n",
       "      <td>1.1144</td>\n",
       "      <td>22.8</td>\n",
       "      <td>20.4</td>\n",
       "      <td>45</td>\n",
       "    </tr>\n",
       "    <tr>\n",
       "      <th>6</th>\n",
       "      <td>Pneumonia</td>\n",
       "      <td>192</td>\n",
       "      <td>1.0563</td>\n",
       "      <td>17.9</td>\n",
       "      <td>16.9</td>\n",
       "      <td>38</td>\n",
       "    </tr>\n",
       "    <tr>\n",
       "      <th>7</th>\n",
       "      <td>Chronic_Obstructive_Pulmonary</td>\n",
       "      <td>157</td>\n",
       "      <td>0.9435</td>\n",
       "      <td>15.8</td>\n",
       "      <td>16.8</td>\n",
       "      <td>23</td>\n",
       "    </tr>\n",
       "    <tr>\n",
       "      <th>8</th>\n",
       "      <td>Chronic_Obstructive_Pulmonary</td>\n",
       "      <td>75</td>\n",
       "      <td>1.0167</td>\n",
       "      <td>17.2</td>\n",
       "      <td>16.9</td>\n",
       "      <td>14</td>\n",
       "    </tr>\n",
       "    <tr>\n",
       "      <th>9</th>\n",
       "      <td>Chronic_Obstructive_Pulmonary</td>\n",
       "      <td>134</td>\n",
       "      <td>1.0513</td>\n",
       "      <td>19.8</td>\n",
       "      <td>18.8</td>\n",
       "      <td>30</td>\n",
       "    </tr>\n",
       "  </tbody>\n",
       "</table>\n",
       "</div>"
      ],
      "text/plain": [
       "                    Measure Name  Number of Discharges  \\\n",
       "0  Chronic_Obstructive_Pulmonary                   166   \n",
       "1                  Heart_Failure                   343   \n",
       "2               Hip_Knee_Surgery                   641   \n",
       "3  Chronic_Obstructive_Pulmonary                   157   \n",
       "4  Chronic_Obstructive_Pulmonary                   239   \n",
       "5                  Heart_Failure                   170   \n",
       "6                      Pneumonia                   192   \n",
       "7  Chronic_Obstructive_Pulmonary                   157   \n",
       "8  Chronic_Obstructive_Pulmonary                    75   \n",
       "9  Chronic_Obstructive_Pulmonary                   134   \n",
       "\n",
       "   Excess Readmission Ratio  Predicted Readmission Rate  \\\n",
       "0                    0.9502                        18.4   \n",
       "1                    0.9587                        19.9   \n",
       "2                    1.0221                         4.9   \n",
       "3                    0.9756                        16.6   \n",
       "4                    1.0373                        21.5   \n",
       "5                    1.1144                        22.8   \n",
       "6                    1.0563                        17.9   \n",
       "7                    0.9435                        15.8   \n",
       "8                    1.0167                        17.2   \n",
       "9                    1.0513                        19.8   \n",
       "\n",
       "   Expected Readmission Rate  Number of Readmissions  \n",
       "0                       19.3                      27  \n",
       "1                       20.8                      66  \n",
       "2                        4.8                      32  \n",
       "3                       16.7                      23  \n",
       "4                       20.7                      54  \n",
       "5                       20.4                      45  \n",
       "6                       16.9                      38  \n",
       "7                       16.8                      23  \n",
       "8                       16.9                      14  \n",
       "9                       18.8                      30  "
      ]
     },
     "execution_count": 8,
     "metadata": {},
     "output_type": "execute_result"
    }
   ],
   "source": [
    "df.head(10)"
   ]
  },
  {
   "cell_type": "code",
   "execution_count": 9,
   "metadata": {},
   "outputs": [
    {
     "name": "stdout",
     "output_type": "stream",
     "text": [
      "<class 'pandas.core.frame.DataFrame'>\n",
      "RangeIndex: 16585 entries, 0 to 16584\n",
      "Data columns (total 6 columns):\n",
      " #   Column                      Non-Null Count  Dtype  \n",
      "---  ------                      --------------  -----  \n",
      " 0   Measure Name                16585 non-null  object \n",
      " 1   Number of Discharges        16585 non-null  int64  \n",
      " 2   Excess Readmission Ratio    16585 non-null  float64\n",
      " 3   Predicted Readmission Rate  16585 non-null  float64\n",
      " 4   Expected Readmission Rate   16585 non-null  float64\n",
      " 5   Number of Readmissions      16585 non-null  int64  \n",
      "dtypes: float64(3), int64(2), object(1)\n",
      "memory usage: 777.6+ KB\n"
     ]
    }
   ],
   "source": [
    "df.info()"
   ]
  },
  {
   "cell_type": "code",
   "execution_count": 10,
   "metadata": {},
   "outputs": [],
   "source": [
    "#using label Encoder for assign a numerical value to the measure name as it's an impportant part of our model.\n",
    "\n",
    "le = LabelEncoder()\n",
    "\n",
    "for col in df.columns:\n",
    "    if df[col].dtype == 'object':\n",
    "        df[col] = le.fit_transform(df[col])"
   ]
  },
  {
   "cell_type": "code",
   "execution_count": 11,
   "metadata": {},
   "outputs": [
    {
     "data": {
      "text/html": [
       "<div>\n",
       "<style scoped>\n",
       "    .dataframe tbody tr th:only-of-type {\n",
       "        vertical-align: middle;\n",
       "    }\n",
       "\n",
       "    .dataframe tbody tr th {\n",
       "        vertical-align: top;\n",
       "    }\n",
       "\n",
       "    .dataframe thead th {\n",
       "        text-align: right;\n",
       "    }\n",
       "</style>\n",
       "<table border=\"1\" class=\"dataframe\">\n",
       "  <thead>\n",
       "    <tr style=\"text-align: right;\">\n",
       "      <th></th>\n",
       "      <th>Measure Name</th>\n",
       "      <th>Number of Discharges</th>\n",
       "      <th>Excess Readmission Ratio</th>\n",
       "      <th>Predicted Readmission Rate</th>\n",
       "      <th>Expected Readmission Rate</th>\n",
       "      <th>Number of Readmissions</th>\n",
       "    </tr>\n",
       "  </thead>\n",
       "  <tbody>\n",
       "    <tr>\n",
       "      <th>0</th>\n",
       "      <td>1</td>\n",
       "      <td>166</td>\n",
       "      <td>0.9502</td>\n",
       "      <td>18.4</td>\n",
       "      <td>19.3</td>\n",
       "      <td>27</td>\n",
       "    </tr>\n",
       "    <tr>\n",
       "      <th>1</th>\n",
       "      <td>2</td>\n",
       "      <td>343</td>\n",
       "      <td>0.9587</td>\n",
       "      <td>19.9</td>\n",
       "      <td>20.8</td>\n",
       "      <td>66</td>\n",
       "    </tr>\n",
       "    <tr>\n",
       "      <th>2</th>\n",
       "      <td>3</td>\n",
       "      <td>641</td>\n",
       "      <td>1.0221</td>\n",
       "      <td>4.9</td>\n",
       "      <td>4.8</td>\n",
       "      <td>32</td>\n",
       "    </tr>\n",
       "    <tr>\n",
       "      <th>3</th>\n",
       "      <td>1</td>\n",
       "      <td>157</td>\n",
       "      <td>0.9756</td>\n",
       "      <td>16.6</td>\n",
       "      <td>16.7</td>\n",
       "      <td>23</td>\n",
       "    </tr>\n",
       "    <tr>\n",
       "      <th>4</th>\n",
       "      <td>1</td>\n",
       "      <td>239</td>\n",
       "      <td>1.0373</td>\n",
       "      <td>21.5</td>\n",
       "      <td>20.7</td>\n",
       "      <td>54</td>\n",
       "    </tr>\n",
       "    <tr>\n",
       "      <th>5</th>\n",
       "      <td>2</td>\n",
       "      <td>170</td>\n",
       "      <td>1.1144</td>\n",
       "      <td>22.8</td>\n",
       "      <td>20.4</td>\n",
       "      <td>45</td>\n",
       "    </tr>\n",
       "    <tr>\n",
       "      <th>6</th>\n",
       "      <td>4</td>\n",
       "      <td>192</td>\n",
       "      <td>1.0563</td>\n",
       "      <td>17.9</td>\n",
       "      <td>16.9</td>\n",
       "      <td>38</td>\n",
       "    </tr>\n",
       "    <tr>\n",
       "      <th>7</th>\n",
       "      <td>1</td>\n",
       "      <td>157</td>\n",
       "      <td>0.9435</td>\n",
       "      <td>15.8</td>\n",
       "      <td>16.8</td>\n",
       "      <td>23</td>\n",
       "    </tr>\n",
       "    <tr>\n",
       "      <th>8</th>\n",
       "      <td>1</td>\n",
       "      <td>75</td>\n",
       "      <td>1.0167</td>\n",
       "      <td>17.2</td>\n",
       "      <td>16.9</td>\n",
       "      <td>14</td>\n",
       "    </tr>\n",
       "    <tr>\n",
       "      <th>9</th>\n",
       "      <td>1</td>\n",
       "      <td>134</td>\n",
       "      <td>1.0513</td>\n",
       "      <td>19.8</td>\n",
       "      <td>18.8</td>\n",
       "      <td>30</td>\n",
       "    </tr>\n",
       "  </tbody>\n",
       "</table>\n",
       "</div>"
      ],
      "text/plain": [
       "   Measure Name  Number of Discharges  Excess Readmission Ratio  \\\n",
       "0             1                   166                    0.9502   \n",
       "1             2                   343                    0.9587   \n",
       "2             3                   641                    1.0221   \n",
       "3             1                   157                    0.9756   \n",
       "4             1                   239                    1.0373   \n",
       "5             2                   170                    1.1144   \n",
       "6             4                   192                    1.0563   \n",
       "7             1                   157                    0.9435   \n",
       "8             1                    75                    1.0167   \n",
       "9             1                   134                    1.0513   \n",
       "\n",
       "   Predicted Readmission Rate  Expected Readmission Rate  \\\n",
       "0                        18.4                       19.3   \n",
       "1                        19.9                       20.8   \n",
       "2                         4.9                        4.8   \n",
       "3                        16.6                       16.7   \n",
       "4                        21.5                       20.7   \n",
       "5                        22.8                       20.4   \n",
       "6                        17.9                       16.9   \n",
       "7                        15.8                       16.8   \n",
       "8                        17.2                       16.9   \n",
       "9                        19.8                       18.8   \n",
       "\n",
       "   Number of Readmissions  \n",
       "0                      27  \n",
       "1                      66  \n",
       "2                      32  \n",
       "3                      23  \n",
       "4                      54  \n",
       "5                      45  \n",
       "6                      38  \n",
       "7                      23  \n",
       "8                      14  \n",
       "9                      30  "
      ]
     },
     "execution_count": 11,
     "metadata": {},
     "output_type": "execute_result"
    }
   ],
   "source": [
    "df.head(10)"
   ]
  },
  {
   "cell_type": "code",
   "execution_count": 12,
   "metadata": {},
   "outputs": [
    {
     "data": {
      "text/html": [
       "<div>\n",
       "<style scoped>\n",
       "    .dataframe tbody tr th:only-of-type {\n",
       "        vertical-align: middle;\n",
       "    }\n",
       "\n",
       "    .dataframe tbody tr th {\n",
       "        vertical-align: top;\n",
       "    }\n",
       "\n",
       "    .dataframe thead th {\n",
       "        text-align: right;\n",
       "    }\n",
       "</style>\n",
       "<table border=\"1\" class=\"dataframe\">\n",
       "  <thead>\n",
       "    <tr style=\"text-align: right;\">\n",
       "      <th></th>\n",
       "      <th>Measure Name</th>\n",
       "      <th>Number of Discharges</th>\n",
       "      <th>Excess Readmission Ratio</th>\n",
       "      <th>Predicted Readmission Rate</th>\n",
       "      <th>Expected Readmission Rate</th>\n",
       "      <th>Number of Readmissions</th>\n",
       "    </tr>\n",
       "  </thead>\n",
       "  <tbody>\n",
       "    <tr>\n",
       "      <th>0</th>\n",
       "      <td>-0.707107</td>\n",
       "      <td>-0.467288</td>\n",
       "      <td>-0.577808</td>\n",
       "      <td>0.371217</td>\n",
       "      <td>0.557448</td>\n",
       "      <td>-0.423809</td>\n",
       "    </tr>\n",
       "    <tr>\n",
       "      <th>1</th>\n",
       "      <td>0.000000</td>\n",
       "      <td>0.191492</td>\n",
       "      <td>-0.473035</td>\n",
       "      <td>0.647648</td>\n",
       "      <td>0.842779</td>\n",
       "      <td>0.373845</td>\n",
       "    </tr>\n",
       "    <tr>\n",
       "      <th>2</th>\n",
       "      <td>0.707107</td>\n",
       "      <td>1.300624</td>\n",
       "      <td>0.308445</td>\n",
       "      <td>-2.116662</td>\n",
       "      <td>-2.200751</td>\n",
       "      <td>-0.321545</td>\n",
       "    </tr>\n",
       "    <tr>\n",
       "      <th>3</th>\n",
       "      <td>-0.707107</td>\n",
       "      <td>-0.500786</td>\n",
       "      <td>-0.264722</td>\n",
       "      <td>0.039500</td>\n",
       "      <td>0.062874</td>\n",
       "      <td>-0.505619</td>\n",
       "    </tr>\n",
       "    <tr>\n",
       "      <th>4</th>\n",
       "      <td>-0.707107</td>\n",
       "      <td>-0.195588</td>\n",
       "      <td>0.495803</td>\n",
       "      <td>0.942508</td>\n",
       "      <td>0.823757</td>\n",
       "      <td>0.128413</td>\n",
       "    </tr>\n",
       "    <tr>\n",
       "      <th>5</th>\n",
       "      <td>0.000000</td>\n",
       "      <td>-0.452401</td>\n",
       "      <td>1.446152</td>\n",
       "      <td>1.182081</td>\n",
       "      <td>0.766690</td>\n",
       "      <td>-0.055661</td>\n",
       "    </tr>\n",
       "    <tr>\n",
       "      <th>6</th>\n",
       "      <td>1.414214</td>\n",
       "      <td>-0.370518</td>\n",
       "      <td>0.730001</td>\n",
       "      <td>0.279073</td>\n",
       "      <td>0.100918</td>\n",
       "      <td>-0.198829</td>\n",
       "    </tr>\n",
       "    <tr>\n",
       "      <th>7</th>\n",
       "      <td>-0.707107</td>\n",
       "      <td>-0.500786</td>\n",
       "      <td>-0.660393</td>\n",
       "      <td>-0.107930</td>\n",
       "      <td>0.081896</td>\n",
       "      <td>-0.505619</td>\n",
       "    </tr>\n",
       "    <tr>\n",
       "      <th>8</th>\n",
       "      <td>-0.707107</td>\n",
       "      <td>-0.805983</td>\n",
       "      <td>0.241884</td>\n",
       "      <td>0.150072</td>\n",
       "      <td>0.100918</td>\n",
       "      <td>-0.689693</td>\n",
       "    </tr>\n",
       "    <tr>\n",
       "      <th>9</th>\n",
       "      <td>-0.707107</td>\n",
       "      <td>-0.586390</td>\n",
       "      <td>0.668370</td>\n",
       "      <td>0.629219</td>\n",
       "      <td>0.462337</td>\n",
       "      <td>-0.362451</td>\n",
       "    </tr>\n",
       "  </tbody>\n",
       "</table>\n",
       "</div>"
      ],
      "text/plain": [
       "   Measure Name  Number of Discharges  Excess Readmission Ratio  \\\n",
       "0     -0.707107             -0.467288                 -0.577808   \n",
       "1      0.000000              0.191492                 -0.473035   \n",
       "2      0.707107              1.300624                  0.308445   \n",
       "3     -0.707107             -0.500786                 -0.264722   \n",
       "4     -0.707107             -0.195588                  0.495803   \n",
       "5      0.000000             -0.452401                  1.446152   \n",
       "6      1.414214             -0.370518                  0.730001   \n",
       "7     -0.707107             -0.500786                 -0.660393   \n",
       "8     -0.707107             -0.805983                  0.241884   \n",
       "9     -0.707107             -0.586390                  0.668370   \n",
       "\n",
       "   Predicted Readmission Rate  Expected Readmission Rate  \\\n",
       "0                    0.371217                   0.557448   \n",
       "1                    0.647648                   0.842779   \n",
       "2                   -2.116662                  -2.200751   \n",
       "3                    0.039500                   0.062874   \n",
       "4                    0.942508                   0.823757   \n",
       "5                    1.182081                   0.766690   \n",
       "6                    0.279073                   0.100918   \n",
       "7                   -0.107930                   0.081896   \n",
       "8                    0.150072                   0.100918   \n",
       "9                    0.629219                   0.462337   \n",
       "\n",
       "   Number of Readmissions  \n",
       "0               -0.423809  \n",
       "1                0.373845  \n",
       "2               -0.321545  \n",
       "3               -0.505619  \n",
       "4                0.128413  \n",
       "5               -0.055661  \n",
       "6               -0.198829  \n",
       "7               -0.505619  \n",
       "8               -0.689693  \n",
       "9               -0.362451  "
      ]
     },
     "execution_count": 12,
     "metadata": {},
     "output_type": "execute_result"
    }
   ],
   "source": [
    "#lets standardize our data into small sizes so as to get a better model run\n",
    "\n",
    "scaler = StandardScaler()\n",
    "df_scaled = pd.DataFrame(scaler.fit_transform(df),columns=df.columns)\n",
    "df_scaled.head(10)"
   ]
  },
  {
   "cell_type": "code",
   "execution_count": 13,
   "metadata": {},
   "outputs": [
    {
     "data": {
      "text/plain": [
       "Measure Name                  0\n",
       "Number of Discharges          0\n",
       "Excess Readmission Ratio      0\n",
       "Predicted Readmission Rate    0\n",
       "Expected Readmission Rate     0\n",
       "Number of Readmissions        0\n",
       "dtype: int64"
      ]
     },
     "execution_count": 13,
     "metadata": {},
     "output_type": "execute_result"
    }
   ],
   "source": [
    "df.isna().sum()"
   ]
  },
  {
   "cell_type": "code",
   "execution_count": 14,
   "metadata": {},
   "outputs": [],
   "source": [
    "#data is ready for some model building \n",
    "#we will use a logistic Regression model\n",
    "\n",
    "from sklearn.model_selection import train_test_split\n",
    "from sklearn.linear_model import LogisticRegression\n",
    "\n",
    "X = df_scaled.drop('Excess Readmission Ratio', axis=1)\n",
    "y = df_scaled['Excess Readmission Ratio']\n"
   ]
  },
  {
   "cell_type": "code",
   "execution_count": 15,
   "metadata": {},
   "outputs": [],
   "source": [
    "#noticed the target variable is continuous so we neeed to convert it.\n",
    "bins = [0,1,float('inf')]\n",
    "labels =['low','high']\n",
    "y_bined = pd.cut(y, bins=bins, labels=labels, include_lowest=True)"
   ]
  },
  {
   "cell_type": "code",
   "execution_count": 16,
   "metadata": {},
   "outputs": [],
   "source": [
    "y_bined=y_bined.fillna('low')"
   ]
  },
  {
   "cell_type": "code",
   "execution_count": 17,
   "metadata": {},
   "outputs": [],
   "source": [
    "X_train, X_test, y_train, y_test = train_test_split(X, y_bined, test_size=0.3, random_state=100)"
   ]
  },
  {
   "cell_type": "code",
   "execution_count": 18,
   "metadata": {},
   "outputs": [
    {
     "data": {
      "text/html": [
       "<style>#sk-container-id-1 {color: black;background-color: white;}#sk-container-id-1 pre{padding: 0;}#sk-container-id-1 div.sk-toggleable {background-color: white;}#sk-container-id-1 label.sk-toggleable__label {cursor: pointer;display: block;width: 100%;margin-bottom: 0;padding: 0.3em;box-sizing: border-box;text-align: center;}#sk-container-id-1 label.sk-toggleable__label-arrow:before {content: \"▸\";float: left;margin-right: 0.25em;color: #696969;}#sk-container-id-1 label.sk-toggleable__label-arrow:hover:before {color: black;}#sk-container-id-1 div.sk-estimator:hover label.sk-toggleable__label-arrow:before {color: black;}#sk-container-id-1 div.sk-toggleable__content {max-height: 0;max-width: 0;overflow: hidden;text-align: left;background-color: #f0f8ff;}#sk-container-id-1 div.sk-toggleable__content pre {margin: 0.2em;color: black;border-radius: 0.25em;background-color: #f0f8ff;}#sk-container-id-1 input.sk-toggleable__control:checked~div.sk-toggleable__content {max-height: 200px;max-width: 100%;overflow: auto;}#sk-container-id-1 input.sk-toggleable__control:checked~label.sk-toggleable__label-arrow:before {content: \"▾\";}#sk-container-id-1 div.sk-estimator input.sk-toggleable__control:checked~label.sk-toggleable__label {background-color: #d4ebff;}#sk-container-id-1 div.sk-label input.sk-toggleable__control:checked~label.sk-toggleable__label {background-color: #d4ebff;}#sk-container-id-1 input.sk-hidden--visually {border: 0;clip: rect(1px 1px 1px 1px);clip: rect(1px, 1px, 1px, 1px);height: 1px;margin: -1px;overflow: hidden;padding: 0;position: absolute;width: 1px;}#sk-container-id-1 div.sk-estimator {font-family: monospace;background-color: #f0f8ff;border: 1px dotted black;border-radius: 0.25em;box-sizing: border-box;margin-bottom: 0.5em;}#sk-container-id-1 div.sk-estimator:hover {background-color: #d4ebff;}#sk-container-id-1 div.sk-parallel-item::after {content: \"\";width: 100%;border-bottom: 1px solid gray;flex-grow: 1;}#sk-container-id-1 div.sk-label:hover label.sk-toggleable__label {background-color: #d4ebff;}#sk-container-id-1 div.sk-serial::before {content: \"\";position: absolute;border-left: 1px solid gray;box-sizing: border-box;top: 0;bottom: 0;left: 50%;z-index: 0;}#sk-container-id-1 div.sk-serial {display: flex;flex-direction: column;align-items: center;background-color: white;padding-right: 0.2em;padding-left: 0.2em;position: relative;}#sk-container-id-1 div.sk-item {position: relative;z-index: 1;}#sk-container-id-1 div.sk-parallel {display: flex;align-items: stretch;justify-content: center;background-color: white;position: relative;}#sk-container-id-1 div.sk-item::before, #sk-container-id-1 div.sk-parallel-item::before {content: \"\";position: absolute;border-left: 1px solid gray;box-sizing: border-box;top: 0;bottom: 0;left: 50%;z-index: -1;}#sk-container-id-1 div.sk-parallel-item {display: flex;flex-direction: column;z-index: 1;position: relative;background-color: white;}#sk-container-id-1 div.sk-parallel-item:first-child::after {align-self: flex-end;width: 50%;}#sk-container-id-1 div.sk-parallel-item:last-child::after {align-self: flex-start;width: 50%;}#sk-container-id-1 div.sk-parallel-item:only-child::after {width: 0;}#sk-container-id-1 div.sk-dashed-wrapped {border: 1px dashed gray;margin: 0 0.4em 0.5em 0.4em;box-sizing: border-box;padding-bottom: 0.4em;background-color: white;}#sk-container-id-1 div.sk-label label {font-family: monospace;font-weight: bold;display: inline-block;line-height: 1.2em;}#sk-container-id-1 div.sk-label-container {text-align: center;}#sk-container-id-1 div.sk-container {/* jupyter's `normalize.less` sets `[hidden] { display: none; }` but bootstrap.min.css set `[hidden] { display: none !important; }` so we also need the `!important` here to be able to override the default hidden behavior on the sphinx rendered scikit-learn.org. See: https://github.com/scikit-learn/scikit-learn/issues/21755 */display: inline-block !important;position: relative;}#sk-container-id-1 div.sk-text-repr-fallback {display: none;}</style><div id=\"sk-container-id-1\" class=\"sk-top-container\"><div class=\"sk-text-repr-fallback\"><pre>LogisticRegression()</pre><b>In a Jupyter environment, please rerun this cell to show the HTML representation or trust the notebook. <br />On GitHub, the HTML representation is unable to render, please try loading this page with nbviewer.org.</b></div><div class=\"sk-container\" hidden><div class=\"sk-item\"><div class=\"sk-estimator sk-toggleable\"><input class=\"sk-toggleable__control sk-hidden--visually\" id=\"sk-estimator-id-1\" type=\"checkbox\" checked><label for=\"sk-estimator-id-1\" class=\"sk-toggleable__label sk-toggleable__label-arrow\">LogisticRegression</label><div class=\"sk-toggleable__content\"><pre>LogisticRegression()</pre></div></div></div></div></div>"
      ],
      "text/plain": [
       "LogisticRegression()"
      ]
     },
     "execution_count": 18,
     "metadata": {},
     "output_type": "execute_result"
    }
   ],
   "source": [
    "#fitting the model to the training data\n",
    "log = LogisticRegression()\n",
    "log.fit(X_train,y_train)"
   ]
  },
  {
   "cell_type": "code",
   "execution_count": 19,
   "metadata": {},
   "outputs": [],
   "source": [
    "prediction = log.predict(X_test)"
   ]
  },
  {
   "cell_type": "code",
   "execution_count": 20,
   "metadata": {},
   "outputs": [
    {
     "name": "stdout",
     "output_type": "stream",
     "text": [
      "['low' 'high' 'low' ... 'low' 'low' 'low']\n"
     ]
    }
   ],
   "source": [
    "print(prediction)"
   ]
  },
  {
   "cell_type": "code",
   "execution_count": 21,
   "metadata": {},
   "outputs": [
    {
     "name": "stdout",
     "output_type": "stream",
     "text": [
      "[[ 540   72]\n",
      " [   0 4364]]\n",
      "              precision    recall  f1-score   support\n",
      "\n",
      "        high       1.00      0.88      0.94       612\n",
      "         low       0.98      1.00      0.99      4364\n",
      "\n",
      "    accuracy                           0.99      4976\n",
      "   macro avg       0.99      0.94      0.96      4976\n",
      "weighted avg       0.99      0.99      0.99      4976\n",
      "\n",
      "0.9855305466237942\n"
     ]
    }
   ],
   "source": [
    "#Evaluating our model.\n",
    "\n",
    "from sklearn.metrics import classification_report, confusion_matrix,accuracy_score\n",
    "\n",
    "print(confusion_matrix(y_test, prediction))\n",
    "print(classification_report(y_test, prediction))\n",
    "print(accuracy_score(y_test, prediction))"
   ]
  },
  {
   "cell_type": "code",
   "execution_count": 22,
   "metadata": {},
   "outputs": [],
   "source": [
    "from sklearn.model_selection import GridSearchCV\n",
    "para_grid =  {\n",
    "    'C': [0.1, 1, 10, 100],\n",
    "    'penalty': ['l1', 'l2'],\n",
    "    'solver': ['liblinear','lbfgs']\n",
    "\n",
    "}"
   ]
  },
  {
   "cell_type": "code",
   "execution_count": 23,
   "metadata": {},
   "outputs": [
    {
     "data": {
      "text/html": [
       "<style>#sk-container-id-2 {color: black;background-color: white;}#sk-container-id-2 pre{padding: 0;}#sk-container-id-2 div.sk-toggleable {background-color: white;}#sk-container-id-2 label.sk-toggleable__label {cursor: pointer;display: block;width: 100%;margin-bottom: 0;padding: 0.3em;box-sizing: border-box;text-align: center;}#sk-container-id-2 label.sk-toggleable__label-arrow:before {content: \"▸\";float: left;margin-right: 0.25em;color: #696969;}#sk-container-id-2 label.sk-toggleable__label-arrow:hover:before {color: black;}#sk-container-id-2 div.sk-estimator:hover label.sk-toggleable__label-arrow:before {color: black;}#sk-container-id-2 div.sk-toggleable__content {max-height: 0;max-width: 0;overflow: hidden;text-align: left;background-color: #f0f8ff;}#sk-container-id-2 div.sk-toggleable__content pre {margin: 0.2em;color: black;border-radius: 0.25em;background-color: #f0f8ff;}#sk-container-id-2 input.sk-toggleable__control:checked~div.sk-toggleable__content {max-height: 200px;max-width: 100%;overflow: auto;}#sk-container-id-2 input.sk-toggleable__control:checked~label.sk-toggleable__label-arrow:before {content: \"▾\";}#sk-container-id-2 div.sk-estimator input.sk-toggleable__control:checked~label.sk-toggleable__label {background-color: #d4ebff;}#sk-container-id-2 div.sk-label input.sk-toggleable__control:checked~label.sk-toggleable__label {background-color: #d4ebff;}#sk-container-id-2 input.sk-hidden--visually {border: 0;clip: rect(1px 1px 1px 1px);clip: rect(1px, 1px, 1px, 1px);height: 1px;margin: -1px;overflow: hidden;padding: 0;position: absolute;width: 1px;}#sk-container-id-2 div.sk-estimator {font-family: monospace;background-color: #f0f8ff;border: 1px dotted black;border-radius: 0.25em;box-sizing: border-box;margin-bottom: 0.5em;}#sk-container-id-2 div.sk-estimator:hover {background-color: #d4ebff;}#sk-container-id-2 div.sk-parallel-item::after {content: \"\";width: 100%;border-bottom: 1px solid gray;flex-grow: 1;}#sk-container-id-2 div.sk-label:hover label.sk-toggleable__label {background-color: #d4ebff;}#sk-container-id-2 div.sk-serial::before {content: \"\";position: absolute;border-left: 1px solid gray;box-sizing: border-box;top: 0;bottom: 0;left: 50%;z-index: 0;}#sk-container-id-2 div.sk-serial {display: flex;flex-direction: column;align-items: center;background-color: white;padding-right: 0.2em;padding-left: 0.2em;position: relative;}#sk-container-id-2 div.sk-item {position: relative;z-index: 1;}#sk-container-id-2 div.sk-parallel {display: flex;align-items: stretch;justify-content: center;background-color: white;position: relative;}#sk-container-id-2 div.sk-item::before, #sk-container-id-2 div.sk-parallel-item::before {content: \"\";position: absolute;border-left: 1px solid gray;box-sizing: border-box;top: 0;bottom: 0;left: 50%;z-index: -1;}#sk-container-id-2 div.sk-parallel-item {display: flex;flex-direction: column;z-index: 1;position: relative;background-color: white;}#sk-container-id-2 div.sk-parallel-item:first-child::after {align-self: flex-end;width: 50%;}#sk-container-id-2 div.sk-parallel-item:last-child::after {align-self: flex-start;width: 50%;}#sk-container-id-2 div.sk-parallel-item:only-child::after {width: 0;}#sk-container-id-2 div.sk-dashed-wrapped {border: 1px dashed gray;margin: 0 0.4em 0.5em 0.4em;box-sizing: border-box;padding-bottom: 0.4em;background-color: white;}#sk-container-id-2 div.sk-label label {font-family: monospace;font-weight: bold;display: inline-block;line-height: 1.2em;}#sk-container-id-2 div.sk-label-container {text-align: center;}#sk-container-id-2 div.sk-container {/* jupyter's `normalize.less` sets `[hidden] { display: none; }` but bootstrap.min.css set `[hidden] { display: none !important; }` so we also need the `!important` here to be able to override the default hidden behavior on the sphinx rendered scikit-learn.org. See: https://github.com/scikit-learn/scikit-learn/issues/21755 */display: inline-block !important;position: relative;}#sk-container-id-2 div.sk-text-repr-fallback {display: none;}</style><div id=\"sk-container-id-2\" class=\"sk-top-container\"><div class=\"sk-text-repr-fallback\"><pre>GridSearchCV(cv=5, estimator=LogisticRegression(),\n",
       "             param_grid={&#x27;C&#x27;: [0.1, 1, 10, 100], &#x27;penalty&#x27;: [&#x27;l1&#x27;, &#x27;l2&#x27;],\n",
       "                         &#x27;solver&#x27;: [&#x27;liblinear&#x27;, &#x27;lbfgs&#x27;]},\n",
       "             scoring=&#x27;accuracy&#x27;)</pre><b>In a Jupyter environment, please rerun this cell to show the HTML representation or trust the notebook. <br />On GitHub, the HTML representation is unable to render, please try loading this page with nbviewer.org.</b></div><div class=\"sk-container\" hidden><div class=\"sk-item sk-dashed-wrapped\"><div class=\"sk-label-container\"><div class=\"sk-label sk-toggleable\"><input class=\"sk-toggleable__control sk-hidden--visually\" id=\"sk-estimator-id-2\" type=\"checkbox\" ><label for=\"sk-estimator-id-2\" class=\"sk-toggleable__label sk-toggleable__label-arrow\">GridSearchCV</label><div class=\"sk-toggleable__content\"><pre>GridSearchCV(cv=5, estimator=LogisticRegression(),\n",
       "             param_grid={&#x27;C&#x27;: [0.1, 1, 10, 100], &#x27;penalty&#x27;: [&#x27;l1&#x27;, &#x27;l2&#x27;],\n",
       "                         &#x27;solver&#x27;: [&#x27;liblinear&#x27;, &#x27;lbfgs&#x27;]},\n",
       "             scoring=&#x27;accuracy&#x27;)</pre></div></div></div><div class=\"sk-parallel\"><div class=\"sk-parallel-item\"><div class=\"sk-item\"><div class=\"sk-label-container\"><div class=\"sk-label sk-toggleable\"><input class=\"sk-toggleable__control sk-hidden--visually\" id=\"sk-estimator-id-3\" type=\"checkbox\" ><label for=\"sk-estimator-id-3\" class=\"sk-toggleable__label sk-toggleable__label-arrow\">estimator: LogisticRegression</label><div class=\"sk-toggleable__content\"><pre>LogisticRegression()</pre></div></div></div><div class=\"sk-serial\"><div class=\"sk-item\"><div class=\"sk-estimator sk-toggleable\"><input class=\"sk-toggleable__control sk-hidden--visually\" id=\"sk-estimator-id-4\" type=\"checkbox\" ><label for=\"sk-estimator-id-4\" class=\"sk-toggleable__label sk-toggleable__label-arrow\">LogisticRegression</label><div class=\"sk-toggleable__content\"><pre>LogisticRegression()</pre></div></div></div></div></div></div></div></div></div></div>"
      ],
      "text/plain": [
       "GridSearchCV(cv=5, estimator=LogisticRegression(),\n",
       "             param_grid={'C': [0.1, 1, 10, 100], 'penalty': ['l1', 'l2'],\n",
       "                         'solver': ['liblinear', 'lbfgs']},\n",
       "             scoring='accuracy')"
      ]
     },
     "execution_count": 23,
     "metadata": {},
     "output_type": "execute_result"
    }
   ],
   "source": [
    "grid_search = GridSearchCV(log,para_grid ,cv=5,scoring= 'accuracy')\n",
    "\n",
    "grid_search.fit(X_train, y_train)\n"
   ]
  },
  {
   "cell_type": "code",
   "execution_count": 24,
   "metadata": {},
   "outputs": [],
   "source": [
    "best_model = grid_search.best_estimator_"
   ]
  },
  {
   "cell_type": "code",
   "execution_count": 25,
   "metadata": {},
   "outputs": [
    {
     "name": "stdout",
     "output_type": "stream",
     "text": [
      "Accuracy: 0.9855305466237942\n",
      "Best parameter: {'C': 100, 'penalty': 'l2', 'solver': 'lbfgs'}\n",
      "[[ 599   13]\n",
      " [   8 4356]]\n"
     ]
    }
   ],
   "source": [
    "best_model\n",
    "predictions = best_model.predict(X_test)\n",
    "accuracy = accuracy_score(y_test,prediction)\n",
    "print(\"Accuracy:\", accuracy)\n",
    "print('Best parameter:',grid_search.best_params_)\n",
    "\n",
    "print(confusion_matrix(y_test, predictions))\n",
    "\n"
   ]
  },
  {
   "cell_type": "code",
   "execution_count": 26,
   "metadata": {},
   "outputs": [
    {
     "data": {
      "image/png": "[encoded data removed]",
      "text/plain": [
       "<Figure size 1000x600 with 1 Axes>"
      ]
     },
     "metadata": {},
     "output_type": "display_data"
    }
   ],
   "source": [
    "#lets check the learnin curve \n",
    "\n",
    "import matplotlib.pyplot as plt\n",
    "\n",
    "plt.figure(figsize=(10, 6))\n",
    "\n",
    "from sklearn.model_selection import learning_curve\n",
    "\n",
    "train_sizes, train_scores, test_scores = learning_curve(best_model, X, y_bined, cv=5, scoring='accuracy', n_jobs=-1)\n",
    "\n",
    "train_scores_mean = np.mean(train_scores, axis=1)\n",
    "\n",
    "test_scores_mean = np.mean(test_scores, axis=1)\n",
    "\n",
    "plt.plot(train_sizes, train_scores_mean, label='Training accuracy')\n",
    "\n",
    "plt.plot(train_sizes, test_scores_mean, label='Cross-validation accuracy')\n",
    "\n",
    "plt.xlabel('Training size')\n",
    "\n",
    "plt.ylabel('Accuracy')\n",
    "\n",
    "plt.legend(loc='best')\n",
    "\n",
    "plt.show()"
   ]
  },
  {
   "cell_type": "code",
   "execution_count": 27,
   "metadata": {},
   "outputs": [
    {
     "data": {
      "text/plain": [
       "array(['low'], dtype=object)"
      ]
     },
     "execution_count": 27,
     "metadata": {},
     "output_type": "execute_result"
    }
   ],
   "source": [
    "#let's test our model on a new data\n",
    "\n",
    "new_data = pd.DataFrame({\n",
    "    'Measure Name': [1],\n",
    "    'Number of Discharges': [500],\n",
    "    'Predicted Readmission Rate': [1.12],\n",
    "    'Expected Readmission Rate':[20.4],\n",
    "    'Number of Readmissions': [1000]\n",
    "})\n",
    "\n",
    "new_data_scaled = pd.DataFrame(scaler.fit_transform(new_data), columns=new_data.columns)\n",
    "\n",
    "predictions = best_model.predict(new_data_scaled)\n",
    "\n",
    "predictions\n"
   ]
  },
  {
   "cell_type": "code",
   "execution_count": 28,
   "metadata": {},
   "outputs": [],
   "source": [
    "#let's save our model \n",
    "import pickle "
   ]
  },
  {
   "cell_type": "code",
   "execution_count": 29,
   "metadata": {},
   "outputs": [
    {
     "name": "stdout",
     "output_type": "stream",
     "text": [
      "Model saved successfully.\n"
     ]
    }
   ],
   "source": [
    "\n",
    "\n",
    "with open('model.pkl', 'wb') as file:\n",
    "    pickle.dump(best_model, file)\n",
    "    print('Model saved successfully.')"
   ]
  },
  {
   "cell_type": "code",
   "execution_count": 30,
   "metadata": {},
   "outputs": [
    {
     "name": "stdout",
     "output_type": "stream",
     "text": [
      "Scaler saved successfully.\n",
      "Label Encoder saved successfully.\n"
     ]
    }
   ],
   "source": [
    "#lets save the scaled and Label Encoder\n",
    "\n",
    "with open('scaler.pkl', 'wb') as file:\n",
    "    pickle.dump(scaler, file)\n",
    "    print('Scaler saved successfully.')\n",
    "\n",
    "with open('le.pkl', 'wb') as file:\n",
    "    pickle.dump(le, file)\n",
    "    print('Label Encoder saved successfully.')"
   ]
  },
  {
   "cell_type": "code",
   "execution_count": null,
   "metadata": {},
   "outputs": [],
   "source": []
  }
 ],
 "metadata": {
  "kernelspec": {
   "display_name": "Python 3",
   "language": "python",
   "name": "python3"
  },
  "language_info": {
   "codemirror_mode": {
    "name": "ipython",
    "version": 3
   },
   "file_extension": ".py",
   "mimetype": "text/x-python",
   "name": "python",
   "nbconvert_exporter": "python",
   "pygments_lexer": "ipython3",
   "version": "3.11.5"
  }
 },
 "nbformat": 4,
 "nbformat_minor": 2
}
